{
 "cells": [
  {
   "cell_type": "code",
   "execution_count": 1,
   "id": "7ba5cfbd-0a4a-4785-9d0a-73ae74d40929",
   "metadata": {},
   "outputs": [
    {
     "name": "stdout",
     "output_type": "stream",
     "text": [
      "Vase at the end contains 9000\n"
     ]
    },
    {
     "data": {
      "text/plain": [
       "'\\nwhen randomly done the out put is 9000\\nand the # of balls decreased as the removal process follows a specific pattern\\n'"
      ]
     },
     "execution_count": 1,
     "metadata": {},
     "output_type": "execute_result"
    }
   ],
   "source": [
    "import random\n",
    "# An empty vase\n",
    "# infinite supply of balls\n",
    "# Step 1:\n",
    "# put 10 balls\n",
    "# remove 1\n",
    "# Step 2:\n",
    "# and add 10\n",
    "# then remove ball 2\n",
    "# repeat for infinite number of times\n",
    "# how many balls in the vase at the end when the vase is complete\n",
    "\n",
    "vase = []\n",
    "\n",
    "trials = 1000\n",
    "\n",
    "for i in range(1, trials+1):\n",
    "    for ball in range(10*(i - 1) + 1, 10*i + 1):\n",
    "        vase.append(ball)\n",
    "    if i in vase:\n",
    "        vase.remove(i)\n",
    "\n",
    "print(f\"Vase at the end contains {len(vase)}\")\n",
    "\n",
    "'''\n",
    "when randomly done the out put is 9000\n",
    "and the # of balls decreased as the removal process follows a specific pattern\n",
    "'''\n"
   ]
  },
  {
   "cell_type": "code",
   "execution_count": 1,
   "id": "3fde49e9-1f46-419c-9e24-33590a35fede",
   "metadata": {},
   "outputs": [
    {
     "name": "stdout",
     "output_type": "stream",
     "text": [
      "After 1000000 steps, the vase contains 9000000 balls.\n"
     ]
    }
   ],
   "source": [
    "def simulate_ross_littlewood(steps):\n",
    "    vase = set()\n",
    "\n",
    "    for i in range(1, steps + 1):\n",
    "        for ball in range(10* (i - 1) + 1, 10 * i + 1):\n",
    "            vase.add(ball)\n",
    "        vase.discard(i)\n",
    "    return len(vase)\n",
    "\n",
    "steps = 10**6\n",
    "result = simulate_ross_littlewood(steps)\n",
    "\n",
    "print(f\"After {steps} steps, the vase contains {result} balls.\")"
   ]
  },
  {
   "cell_type": "code",
   "execution_count": 3,
   "id": "2c1677dd-acf8-4359-b2b0-5d99e9714b88",
   "metadata": {},
   "outputs": [],
   "source": [
    "# as it is a finite step it still shows there exists some number of balls\n"
   ]
  },
  {
   "cell_type": "markdown",
   "id": "3cac363f-49e8-49c4-80b5-c96f59dd6149",
   "metadata": {},
   "source": [
    "## Step i: Balls Added (from 10(i−1)+1 to 10(i)+1) #\tith Ball is Removed\n",
    "##### 1:\t 1, 2, 3, 4, 5, 6, 7, 8, 9, 10\t \n",
    " \n",
    "2:\t11, 12, 13, 14, 15, 16, 17, 18, 19, 20\n",
    " #\n",
    " 3:\t21, 22, 23, 24, 25, 26, 27, 28, 29, 30\t"
   ]
  },
  {
   "cell_type": "code",
   "execution_count": null,
   "id": "d5fd9fbc-3ee0-44cc-9439-412c93c1bece",
   "metadata": {},
   "outputs": [],
   "source": []
  }
 ],
 "metadata": {
  "kernelspec": {
   "display_name": "Python 3 (ipykernel)",
   "language": "python",
   "name": "python3"
  },
  "language_info": {
   "codemirror_mode": {
    "name": "ipython",
    "version": 3
   },
   "file_extension": ".py",
   "mimetype": "text/x-python",
   "name": "python",
   "nbconvert_exporter": "python",
   "pygments_lexer": "ipython3",
   "version": "3.12.2"
  }
 },
 "nbformat": 4,
 "nbformat_minor": 5
}
