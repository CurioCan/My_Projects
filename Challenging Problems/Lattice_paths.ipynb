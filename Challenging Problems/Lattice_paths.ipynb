{
 "cells": [
  {
   "cell_type": "code",
   "execution_count": 1,
   "id": "920fbf57-3b80-4067-8365-d886a8b59026",
   "metadata": {},
   "outputs": [],
   "source": [
    "# For a 2 x 2 Grid\n",
    "## From a starting point to the end point it can only take right, down , right, down \n",
    "\n",
    "## To be more accurate, it is lattice points than latti"
   ]
  },
  {
   "cell_type": "code",
   "execution_count": 2,
   "id": "e77da5f1-68a9-4845-9db6-6cd184ee151c",
   "metadata": {},
   "outputs": [],
   "source": [
    "# X-axis ----->\n",
    "# Y-axis\n",
    "# |\n",
    "# |\n",
    "# |\n",
    "# |\n",
    "# v\n",
    "# \n",
    "# So, if right x += 1\n",
    "# if down y += 1\n",
    "# From (0, 0) till you reach (2, 2)\n",
    "# i is from 0, 1, 2\n",
    "# j is from 0, 1, 2    "
   ]
  },
  {
   "cell_type": "code",
   "execution_count": 3,
   "id": "c5150856-071f-4648-9931-231400bd8544",
   "metadata": {},
   "outputs": [
    {
     "name": "stdout",
     "output_type": "stream",
     "text": [
      "137846528820\n"
     ]
    }
   ],
   "source": [
    "import math\n",
    "\n",
    "n = 20\n",
    "paths = math.comb(2 * n, n)\n",
    "\n",
    "print(paths)"
   ]
  },
  {
   "cell_type": "code",
   "execution_count": 4,
   "id": "c68c7891-0bd4-487f-a21a-8a1ed1a71093",
   "metadata": {},
   "outputs": [],
   "source": [
    "# Lattice Paths, 2nCn where n is the lattice size \n",
    "# n Right moves n Down Moves\n",
    "# First fill all 2n with R then, choosing n and replace with D\n",
    "# So, that 2nCn is the way of choosing"
   ]
  },
  {
   "cell_type": "code",
   "execution_count": 28,
   "id": "7c87dc2a-fe10-493b-967c-0695b764a7ce",
   "metadata": {},
   "outputs": [
    {
     "name": "stdout",
     "output_type": "stream",
     "text": [
      "1 1 1 \n",
      "1 1 1 \n",
      "1 1 1 \n",
      "\n",
      "\n",
      "1 1 1 \n",
      "1 2 1 \n",
      "1 1 1 \n",
      "\n",
      "\n",
      "1 1 1 \n",
      "1 2 3 \n",
      "1 1 1 \n",
      "\n",
      "\n",
      "1 1 1 \n",
      "1 2 3 \n",
      "1 3 1 \n",
      "\n",
      "\n",
      "1 1 1 \n",
      "1 2 3 \n",
      "1 3 6 \n",
      "\n",
      "\n",
      "6\n"
     ]
    }
   ],
   "source": [
    "def print_(grid):\n",
    "    for i in range(len(grid)):\n",
    "        for j in range(len(grid[i])):\n",
    "            print(grid[i][j], end=\" \")\n",
    "        print(\"\")\n",
    "    print(\"\\n\")\n",
    "\n",
    "def lattice_paths(n):\n",
    "    grid = [[1] * (n + 1) for _ in range(n + 1)]\n",
    "    print_(grid)\n",
    "    for i in range(1, n+1):\n",
    "        for j in range(1, n+1):\n",
    "            grid[i][j] = grid[i-1][j] + grid[i][j-1] \n",
    "            # ways to reach a specific point = way to reach the left lattice point + ways to reach the upper lattice point\n",
    "            # we don't consider the lattice point which is at grid[1][1] \n",
    "            print_(grid)\n",
    "            \n",
    "\n",
    "    return grid[n][n]\n",
    "\n",
    "# for ex consider 2 x 2 grid\n",
    "# It looks something like this\n",
    "# ------------\n",
    "# |    |     |\n",
    "# |    |     |\n",
    "# ------------\n",
    "# |    |     |\n",
    "# |    |     |\n",
    "# ------------\n",
    "\n",
    "print(lattice_paths(2))\n",
    "\n",
    "# So, each lattice point is an entry, \n",
    "# [1, 1, 1]\n",
    "# |1, 1, 1|\n",
    "# [1, 1, 1]\n",
    "\n",
    "\n"
   ]
  },
  {
   "cell_type": "code",
   "execution_count": 31,
   "id": "1be6f2af-2239-4cad-a375-bca65730ee35",
   "metadata": {},
   "outputs": [
    {
     "name": "stdout",
     "output_type": "stream",
     "text": [
      "1 1 1 1 \n",
      "1 1 1 1 \n",
      "1 1 1 1 \n",
      "1 1 1 1 \n",
      "\n",
      "\n",
      "1 1 1 1 \n",
      "1 2 1 1 \n",
      "1 1 1 1 \n",
      "1 1 1 1 \n",
      "\n",
      "\n",
      "1 1 1 1 \n",
      "1 2 3 1 \n",
      "1 1 1 1 \n",
      "1 1 1 1 \n",
      "\n",
      "\n",
      "1 1 1 1 \n",
      "1 2 3 4 \n",
      "1 1 1 1 \n",
      "1 1 1 1 \n",
      "\n",
      "\n",
      "1 1 1 1 \n",
      "1 2 3 4 \n",
      "1 3 1 1 \n",
      "1 1 1 1 \n",
      "\n",
      "\n",
      "1 1 1 1 \n",
      "1 2 3 4 \n",
      "1 3 6 1 \n",
      "1 1 1 1 \n",
      "\n",
      "\n",
      "1 1 1 1 \n",
      "1 2 3 4 \n",
      "1 3 6 10 \n",
      "1 1 1 1 \n",
      "\n",
      "\n",
      "1 1 1 1 \n",
      "1 2 3 4 \n",
      "1 3 6 10 \n",
      "1 4 1 1 \n",
      "\n",
      "\n",
      "1 1 1 1 \n",
      "1 2 3 4 \n",
      "1 3 6 10 \n",
      "1 4 10 1 \n",
      "\n",
      "\n",
      "1 1 1 1 \n",
      "1 2 3 4 \n",
      "1 3 6 10 \n",
      "1 4 10 20 \n",
      "\n",
      "\n",
      "20\n"
     ]
    }
   ],
   "source": [
    "print(lattice_paths(3))"
   ]
  },
  {
   "cell_type": "code",
   "execution_count": null,
   "id": "38959c5b-3b15-4856-b5b2-2ae7c7fdb244",
   "metadata": {},
   "outputs": [],
   "source": []
  }
 ],
 "metadata": {
  "kernelspec": {
   "display_name": "Python 3 (ipykernel)",
   "language": "python",
   "name": "python3"
  },
  "language_info": {
   "codemirror_mode": {
    "name": "ipython",
    "version": 3
   },
   "file_extension": ".py",
   "mimetype": "text/x-python",
   "name": "python",
   "nbconvert_exporter": "python",
   "pygments_lexer": "ipython3",
   "version": "3.12.2"
  }
 },
 "nbformat": 4,
 "nbformat_minor": 5
}
