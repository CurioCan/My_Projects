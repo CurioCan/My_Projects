{
 "cells": [
  {
   "cell_type": "code",
   "execution_count": 12,
   "id": "0c425052-5e9b-4cae-85ab-bd06fa350fb3",
   "metadata": {},
   "outputs": [
    {
     "name": "stdout",
     "output_type": "stream",
     "text": [
      "The survived person is 73\n"
     ]
    }
   ],
   "source": [
    "\n",
    "def joseph(n):\n",
    "    # Eliminate every other person in a circle until one remains.\n",
    "    people = list(range(1, n+1))\n",
    "    \n",
    "    while len(people) > 1:\n",
    "     #   print(people)\n",
    "        if len(people) % 2 == 0:\n",
    "            people = people[::2] # keep every alternate person\n",
    "        else:            \n",
    "            people = people[::2]\n",
    "            people = [people[-1]] + people[:-1] # if odd, move last person to next round\n",
    "    return people[0]\n",
    "\n",
    "lucky_person = joseph(100)\n",
    "print(f\"The survived person is {lucky}\")"
   ]
  },
  {
   "cell_type": "code",
   "execution_count": null,
   "id": "a08bed0b-693e-48be-bc9f-9c6e04b55949",
   "metadata": {},
   "outputs": [],
   "source": []
  },
  {
   "cell_type": "code",
   "execution_count": null,
   "id": "d3707dae-3b90-48d5-8c49-6c39241c7651",
   "metadata": {},
   "outputs": [],
   "source": []
  }
 ],
 "metadata": {
  "kernelspec": {
   "display_name": "Python 3 (ipykernel)",
   "language": "python",
   "name": "python3"
  },
  "language_info": {
   "codemirror_mode": {
    "name": "ipython",
    "version": 3
   },
   "file_extension": ".py",
   "mimetype": "text/x-python",
   "name": "python",
   "nbconvert_exporter": "python",
   "pygments_lexer": "ipython3",
   "version": "3.12.2"
  }
 },
 "nbformat": 4,
 "nbformat_minor": 5
}
