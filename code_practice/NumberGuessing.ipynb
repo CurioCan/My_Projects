{
 "cells": [
  {
   "cell_type": "code",
   "execution_count": 11,
   "id": "2efda448-d9e7-4268-8a34-8c136b486794",
   "metadata": {},
   "outputs": [],
   "source": [
    "def min():\n",
    "    while True:\n",
    "        min = input(\"The minimum value of the range of the number ?\")\n",
    "        if min.isdigit():\n",
    "            return int(min)\n",
    "        print(\"@_@ Enter valid number!!\")\n",
    "\n",
    "def max(a):\n",
    "    while True:\n",
    "        max = input(\"The maximum value of the range of the number ?\")\n",
    "        if max.isdigit():\n",
    "            if int(max) <= a:\n",
    "                print(\"@_@ Enter a number to make it range of numbers\")\n",
    "            else:\n",
    "                return int(max)\n",
    "        else:\n",
    "            print(\"@_@ Enter valid number!!\")\n",
    "    \n",
    "\n"
   ]
  },
  {
   "cell_type": "code",
   "execution_count": 54,
   "id": "8b8b3137-247c-404e-9ec9-a3fa1dd6b8dd",
   "metadata": {},
   "outputs": [],
   "source": [
    "def chance(a, b):   \n",
    "    count = 0\n",
    "    while count < 6:\n",
    "        count += 1\n",
    "        while True:\n",
    "            guess = input(f\"Guess the number (between {a} and {b}): \")\n",
    "            if guess.isdigit():\n",
    "                break\n",
    "            print(\"#_# Enter a valid number\")\n",
    "    \n",
    "        guess = int(guess)\n",
    "\n",
    "        if guess not in range(a, b + 1):\n",
    "            print(\"O_o Not in range\")\n",
    "        elif guess < n:\n",
    "            print(\"Too low! Try again.\")\n",
    "        elif guess > n:\n",
    "            print(\"Too high! Try again.\")\n",
    "        else:\n",
    "            best_score = ((6 - count + 1) / 6) * 100\n",
    "            print(f\"\\nCongratulations! You guessed the number in {count} attempts\\n Your score is: {best_score:.2f}\")\n",
    "            return True\n",
    "            break\n",
    "\n",
    "    return False\n"
   ]
  },
  {
   "cell_type": "code",
   "execution_count": 55,
   "id": "e769fe6a-fa8b-4ab4-9e39-82e9cfc4ec94",
   "metadata": {},
   "outputs": [
    {
     "name": "stdin",
     "output_type": "stream",
     "text": [
      "The minimum value of the range of the number ? 90\n",
      "The maximum value of the range of the number ? 100\n"
     ]
    },
    {
     "name": "stdout",
     "output_type": "stream",
     "text": [
      "You have 6 chances to guess the number\n"
     ]
    },
    {
     "name": "stdin",
     "output_type": "stream",
     "text": [
      "Guess the number (between 90 and 100):  98\n"
     ]
    },
    {
     "name": "stdout",
     "output_type": "stream",
     "text": [
      "Too high! Try again.\n"
     ]
    },
    {
     "name": "stdin",
     "output_type": "stream",
     "text": [
      "Guess the number (between 90 and 100):  93\n"
     ]
    },
    {
     "name": "stdout",
     "output_type": "stream",
     "text": [
      "Too low! Try again.\n"
     ]
    },
    {
     "name": "stdin",
     "output_type": "stream",
     "text": [
      "Guess the number (between 90 and 100):  96\n"
     ]
    },
    {
     "name": "stdout",
     "output_type": "stream",
     "text": [
      "\n",
      "Congratulations! You guessed the number in 3 attempts\n",
      " Your score is: 66.67\n",
      "(*^-^*) Thanks for playing..\n"
     ]
    }
   ],
   "source": [
    "from random import *\n",
    "\n",
    "a = min()\n",
    "b = max(a)\n",
    "\n",
    "n = randint(a, b)\n",
    "\n",
    "print(\"You have 6 chances to guess the number\")\n",
    "\n",
    "if chance(a, b):\n",
    "    print(\"(*^-^*) Thanks for playing..\")\n",
    "else:\n",
    "    print(f\"You're out of tries.\\nTHe number was : {n}\\nGame ends..\")\n",
    "    \n",
    "        \n",
    "\n"
   ]
  },
  {
   "cell_type": "code",
   "execution_count": 23,
   "id": "a2cc80bc-6449-4ac5-a9a6-7f003e8aa1c5",
   "metadata": {},
   "outputs": [
    {
     "data": {
      "text/plain": [
       "'Hello'"
      ]
     },
     "execution_count": 23,
     "metadata": {},
     "output_type": "execute_result"
    }
   ],
   "source": [
    "\"##@Hello##@\".strip('##@')"
   ]
  },
  {
   "cell_type": "code",
   "execution_count": 39,
   "id": "75ed69b4-5966-4dc3-a259-d787c74b7373",
   "metadata": {},
   "outputs": [
    {
     "data": {
      "text/plain": [
       "'   3.14'"
      ]
     },
     "execution_count": 39,
     "metadata": {},
     "output_type": "execute_result"
    }
   ],
   "source": [
    "f\"{3.141593210:>7.{3}}\""
   ]
  },
  {
   "cell_type": "code",
   "execution_count": 2,
   "id": "ee0adfac-7c94-4261-a8df-5a1252c60459",
   "metadata": {},
   "outputs": [
    {
     "name": "stdin",
     "output_type": "stream",
     "text": [
      "Guess #\n"
     ]
    },
    {
     "name": "stdout",
     "output_type": "stream",
     "text": [
      "Enter valid!\n"
     ]
    },
    {
     "name": "stdin",
     "output_type": "stream",
     "text": [
      "Guess #3334\n"
     ]
    },
    {
     "name": "stdout",
     "output_type": "stream",
     "text": [
      "Enter valid!\n"
     ]
    },
    {
     "name": "stdin",
     "output_type": "stream",
     "text": [
      "Guess 231\n"
     ]
    }
   ],
   "source": [
    "while True:\n",
    "    try:\n",
    "        guess = int(input(\"Guess\"))\n",
    "        \n",
    "        # Exit the loop if the input is valid\n",
    "        break\n",
    "    except ValueError:\n",
    "        print(\"Enter valid!\")\n",
    "    "
   ]
  },
  {
   "cell_type": "code",
   "execution_count": null,
   "id": "2bbcd176-8ad1-4461-aee0-3c3e24e6b1bd",
   "metadata": {},
   "outputs": [],
   "source": []
  }
 ],
 "metadata": {
  "kernelspec": {
   "display_name": "Python 3 (ipykernel)",
   "language": "python",
   "name": "python3"
  },
  "language_info": {
   "codemirror_mode": {
    "name": "ipython",
    "version": 3
   },
   "file_extension": ".py",
   "mimetype": "text/x-python",
   "name": "python",
   "nbconvert_exporter": "python",
   "pygments_lexer": "ipython3",
   "version": "3.12.7"
  }
 },
 "nbformat": 4,
 "nbformat_minor": 5
}
