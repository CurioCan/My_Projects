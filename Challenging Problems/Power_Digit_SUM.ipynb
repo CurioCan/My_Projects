{
 "cells": [
  {
   "cell_type": "code",
   "execution_count": 1,
   "id": "3483919f-7e65-45a3-9aaa-c79d94a5d36d",
   "metadata": {},
   "outputs": [],
   "source": [
    "# Sum of Digits\n",
    "# power of 2's\n"
   ]
  },
  {
   "cell_type": "code",
   "execution_count": 7,
   "id": "eb2dc4b0-d633-4284-a7a1-cc1e03845ed5",
   "metadata": {},
   "outputs": [
    {
     "name": "stdout",
     "output_type": "stream",
     "text": [
      "26\n"
     ]
    }
   ],
   "source": [
    "def pow_(n):\n",
    "    power = 2\n",
    "    for i in range(n-1):\n",
    "        power = 2 * power\n",
    "    return power\n",
    "# pow_(2)\n",
    "\n",
    "def sum_(n):\n",
    "    number = pow_(n)\n",
    "    add = 0\n",
    "    while number > 0:\n",
    "        modulo = number % 10\n",
    "        add += modulo\n",
    "        number = int((number - modulo)/10)\n",
    "    return add\n",
    "    \n",
    "# print(sum_(15))"
   ]
  },
  {
   "cell_type": "code",
   "execution_count": 8,
   "id": "c1a2d367-1e84-430f-9b1b-069bcb7ae5ad",
   "metadata": {},
   "outputs": [
    {
     "data": {
      "text/plain": [
       "1189"
      ]
     },
     "execution_count": 8,
     "metadata": {},
     "output_type": "execute_result"
    }
   ],
   "source": [
    "sum_(1000)"
   ]
  },
  {
   "cell_type": "code",
   "execution_count": null,
   "id": "6f139237-ce5d-47aa-b34e-4154dab38c99",
   "metadata": {},
   "outputs": [],
   "source": []
  }
 ],
 "metadata": {
  "kernelspec": {
   "display_name": "Python 3 (ipykernel)",
   "language": "python",
   "name": "python3"
  },
  "language_info": {
   "codemirror_mode": {
    "name": "ipython",
    "version": 3
   },
   "file_extension": ".py",
   "mimetype": "text/x-python",
   "name": "python",
   "nbconvert_exporter": "python",
   "pygments_lexer": "ipython3",
   "version": "3.12.2"
  }
 },
 "nbformat": 4,
 "nbformat_minor": 5
}
