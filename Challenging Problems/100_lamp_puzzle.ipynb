{
 "cells": [
  {
   "cell_type": "markdown",
   "id": "e5360fd3-505b-492b-83f8-7c12429e8bd3",
   "metadata": {},
   "source": [
    "**100 lamps are lined up in a row.** They are all switched off. 100 people are ready to partake in this experiment. Person 1 flicks the switch of every lamp. Person 2 then flicks the switch of every other lamp, starting from lamp 2. Person 3 then flicks the switch of every third lamp, starting from lamp 3. This repeats until person 100. How many lamps are switched on after all 100 people finish?"
   ]
  },
  {
   "cell_type": "code",
   "execution_count": 26,
   "id": "52fbe0b5-0148-42a1-9602-c5d354c1e7b7",
   "metadata": {},
   "outputs": [
    {
     "name": "stdout",
     "output_type": "stream",
     "text": [
      "1 is on\n",
      "4 is on\n",
      "9 is on\n",
      "16 is on\n",
      "25 is on\n",
      "36 is on\n",
      "49 is on\n",
      "64 is on\n",
      "81 is on\n",
      "100 is on\n",
      "\t10 switches are switched on.\n"
     ]
    }
   ],
   "source": [
    "def toggle(dual):\n",
    "    return not dual # Flip the switch state (True <-> False)\n",
    "    \n",
    "# switches = {1: False}\n",
    "# for i in range(2, 100+1):\n",
    "#     switches[i] = False\n",
    "\n",
    "switches = {i: False for i in range(1, 101)}\n",
    "\n",
    "for i in range(1, 100+1):\n",
    "   for j in range(i, 101, i):\n",
    "       switches[j] = toggle(switches[j])\n",
    "        \n",
    "# switch_on = 0\n",
    "# for _ in switches:\n",
    "#     if switches[_]:\n",
    "#       switch_on += 1\n",
    "\n",
    "switch_on = sum(switches.values())\n",
    "\n",
    "for switch in switches:\n",
    "    if switches[switch]:\n",
    "        print(f\"{switch} is on\")\n",
    "print(f\"\\t{switch_on} switches are switched on.\")"
   ]
  },
  {
   "cell_type": "code",
   "execution_count": 28,
   "id": "7b111272-cfad-4a04-a8c8-148259442901",
   "metadata": {},
   "outputs": [],
   "source": [
    "def lamp_puzzle(n):\n",
    "    switches = {i: False for i in range(1, n+1)}\n",
    "\n",
    "    for i in range(1, n+1):\n",
    "        for j in range(i, n+1, i):\n",
    "            switches[j] = toggle(switches[j])\n",
    "    switch_on = sum(switches.values())\n",
    "\n",
    "    return switch_on\n"
   ]
  },
  {
   "cell_type": "code",
   "execution_count": 29,
   "id": "5938dc80-fe9d-4cb7-8a01-86b676161f48",
   "metadata": {},
   "outputs": [
    {
     "data": {
      "text/plain": [
       "316"
      ]
     },
     "execution_count": 29,
     "metadata": {},
     "output_type": "execute_result"
    }
   ],
   "source": [
    "lamp_puzzle(100000)"
   ]
  },
  {
   "cell_type": "code",
   "execution_count": null,
   "id": "ec1b2fa1-7500-4c89-88c4-46bbe895935d",
   "metadata": {},
   "outputs": [],
   "source": [
    "# number of squres: floor(squre(100000)) : 316"
   ]
  }
 ],
 "metadata": {
  "kernelspec": {
   "display_name": "Python 3 (ipykernel)",
   "language": "python",
   "name": "python3"
  },
  "language_info": {
   "codemirror_mode": {
    "name": "ipython",
    "version": 3
   },
   "file_extension": ".py",
   "mimetype": "text/x-python",
   "name": "python",
   "nbconvert_exporter": "python",
   "pygments_lexer": "ipython3",
   "version": "3.12.2"
  }
 },
 "nbformat": 4,
 "nbformat_minor": 5
}
